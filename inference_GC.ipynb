{
 "cells": [
  {
   "cell_type": "markdown",
   "metadata": {},
   "source": [
    "## import library"
   ]
  },
  {
   "cell_type": "code",
   "execution_count": 8,
   "metadata": {},
   "outputs": [],
   "source": [
    "#Import library\n",
    "\n",
    "import pandas as pd\n",
    "import numpy as np\n",
    "import pickle\n",
    "import json"
   ]
  },
  {
   "cell_type": "markdown",
   "metadata": {},
   "source": [
    "## load data files"
   ]
  },
  {
   "cell_type": "code",
   "execution_count": 9,
   "metadata": {},
   "outputs": [],
   "source": [
    "#Load all files\n",
    "\n",
    "with open('list_cat_cols.txt', 'r') as file_1:\n",
    "  list_cat_cols = json.load(file_1)\n",
    "\n",
    "with open('list_num_cols.txt', 'r') as file_2:\n",
    "  list_num_cols = json.load(file_2)\n",
    "\n",
    "with open('model_scaler.pkl', 'rb') as file_3:\n",
    "  scaler = pickle.load(file_3)\n",
    "\n",
    "with open('model_encoder.pkl', 'rb') as file_4:\n",
    "  encoder = pickle.load(file_4)\n",
    "\n",
    "with open('model_lin_reg.pkl', 'rb') as file_5:\n",
    "  model_lin_reg = pickle.load(file_5)"
   ]
  },
  {
   "cell_type": "markdown",
   "metadata": {},
   "source": [
    "## load data yang sudah dibuat untuk random state data inference"
   ]
  },
  {
   "cell_type": "code",
   "execution_count": 10,
   "metadata": {},
   "outputs": [
    {
     "data": {
      "text/html": [
       "<div>\n",
       "<style scoped>\n",
       "    .dataframe tbody tr th:only-of-type {\n",
       "        vertical-align: middle;\n",
       "    }\n",
       "\n",
       "    .dataframe tbody tr th {\n",
       "        vertical-align: top;\n",
       "    }\n",
       "\n",
       "    .dataframe thead th {\n",
       "        text-align: right;\n",
       "    }\n",
       "</style>\n",
       "<table border=\"1\" class=\"dataframe\">\n",
       "  <thead>\n",
       "    <tr style=\"text-align: right;\">\n",
       "      <th></th>\n",
       "      <th>Unnamed: 0</th>\n",
       "      <th>id</th>\n",
       "      <th>timestamp</th>\n",
       "      <th>hour</th>\n",
       "      <th>day</th>\n",
       "      <th>month</th>\n",
       "      <th>datetime</th>\n",
       "      <th>timezone</th>\n",
       "      <th>source</th>\n",
       "      <th>destination</th>\n",
       "      <th>...</th>\n",
       "      <th>uvIndexTime</th>\n",
       "      <th>temperatureMin</th>\n",
       "      <th>temperatureMinTime</th>\n",
       "      <th>temperatureMax</th>\n",
       "      <th>temperatureMaxTime</th>\n",
       "      <th>apparentTemperatureMin</th>\n",
       "      <th>apparentTemperatureMinTime</th>\n",
       "      <th>apparentTemperatureMax</th>\n",
       "      <th>apparentTemperatureMaxTime</th>\n",
       "      <th>price_category</th>\n",
       "    </tr>\n",
       "  </thead>\n",
       "  <tbody>\n",
       "    <tr>\n",
       "      <th>0</th>\n",
       "      <td>0</td>\n",
       "      <td>6bd57ed4-cef0-4e87-a87b-c0abbe7032d7</td>\n",
       "      <td>1.543423e+09</td>\n",
       "      <td>16</td>\n",
       "      <td>28</td>\n",
       "      <td>11</td>\n",
       "      <td>2018-11-28 16:35:07</td>\n",
       "      <td>America/New_York</td>\n",
       "      <td>West End</td>\n",
       "      <td>North End</td>\n",
       "      <td>...</td>\n",
       "      <td>1543420800</td>\n",
       "      <td>33.75</td>\n",
       "      <td>1543399200</td>\n",
       "      <td>42.6</td>\n",
       "      <td>1543438800</td>\n",
       "      <td>29.97</td>\n",
       "      <td>1543399200</td>\n",
       "      <td>36.58</td>\n",
       "      <td>1543438800</td>\n",
       "      <td>below_average</td>\n",
       "    </tr>\n",
       "  </tbody>\n",
       "</table>\n",
       "<p>1 rows × 58 columns</p>\n",
       "</div>"
      ],
      "text/plain": [
       "   Unnamed: 0                                    id     timestamp  hour  day  \\\n",
       "0           0  6bd57ed4-cef0-4e87-a87b-c0abbe7032d7  1.543423e+09    16   28   \n",
       "\n",
       "   month             datetime          timezone    source destination  ...  \\\n",
       "0     11  2018-11-28 16:35:07  America/New_York  West End   North End  ...   \n",
       "\n",
       "  uvIndexTime temperatureMin temperatureMinTime  temperatureMax  \\\n",
       "0  1543420800          33.75         1543399200            42.6   \n",
       "\n",
       "   temperatureMaxTime  apparentTemperatureMin  apparentTemperatureMinTime  \\\n",
       "0          1543438800                   29.97                  1543399200   \n",
       "\n",
       "   apparentTemperatureMax  apparentTemperatureMaxTime price_category  \n",
       "0                   36.58                  1543438800  below_average  \n",
       "\n",
       "[1 rows x 58 columns]"
      ]
     },
     "execution_count": 10,
     "metadata": {},
     "output_type": "execute_result"
    }
   ],
   "source": [
    "#Create new data\n",
    "data_inf = pd.read_csv('data_inf')\n",
    "data_inf"
   ]
  },
  {
   "cell_type": "code",
   "execution_count": 11,
   "metadata": {},
   "outputs": [],
   "source": [
    "data_inf_cat= data_inf[list_cat_cols]\n",
    "data_inf_num = data_inf[list_num_cols]\n",
    "\n",
    "data_inf_num_scaled= scaler.transform(data_inf_num)\n",
    "data_inf_cat_encoded = encoder.transform(data_inf_cat).toarray()\n",
    "\n",
    "check = np.concatenate([data_inf_num_scaled, data_inf_cat_encoded], axis = 1)"
   ]
  },
  {
   "cell_type": "code",
   "execution_count": 12,
   "metadata": {},
   "outputs": [],
   "source": [
    "import warnings\n",
    "warnings.filterwarnings(\"ignore\")"
   ]
  },
  {
   "cell_type": "code",
   "execution_count": 13,
   "metadata": {},
   "outputs": [
    {
     "name": "stdout",
     "output_type": "stream",
     "text": [
      "Prediksi harga adalah : 6\n"
     ]
    }
   ],
   "source": [
    "predict_harga = model_lin_reg.predict(check)\n",
    "\n",
    "print(f'Prediksi harga adalah : {int(predict_harga)}')"
   ]
  }
 ],
 "metadata": {
  "kernelspec": {
   "display_name": "base",
   "language": "python",
   "name": "python3"
  },
  "language_info": {
   "codemirror_mode": {
    "name": "ipython",
    "version": 3
   },
   "file_extension": ".py",
   "mimetype": "text/x-python",
   "name": "python",
   "nbconvert_exporter": "python",
   "pygments_lexer": "ipython3",
   "version": "3.11.5"
  }
 },
 "nbformat": 4,
 "nbformat_minor": 2
}
